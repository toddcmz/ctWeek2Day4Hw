{
 "cells": [
  {
   "cell_type": "markdown",
   "metadata": {},
   "source": [
    "# Object-Oriented-Programming (OOP)"
   ]
  },
  {
   "cell_type": "markdown",
   "metadata": {},
   "source": [
    "## Tasks Today:\n",
    "\n",
    "   \n",
    "\n",
    "1) <b>Creating a Class (Initializing/Declaring)</b> <br>\n",
    "2) <b>Using a Class (Instantiating)</b> <br>\n",
    " &nbsp;&nbsp;&nbsp;&nbsp; a) Creating One Instance <br>\n",
    " &nbsp;&nbsp;&nbsp;&nbsp; b) Creating Multiple Instances <br>\n",
    " &nbsp;&nbsp;&nbsp;&nbsp; c) In-Class Exercise #1 - Create a Class 'Car' and instantiate three different makes of cars <br>\n",
    "3) <b>The \\__init\\__() Method</b> <br>\n",
    " &nbsp;&nbsp;&nbsp;&nbsp; a) The 'self' Attribute <br>\n",
    "4) <b>Class Attributes</b> <br>\n",
    " &nbsp;&nbsp;&nbsp;&nbsp; a) Initializing Attributes <br>\n",
    " &nbsp;&nbsp;&nbsp;&nbsp; b) Setting an Attribute Outside of the \\__init\\__() Method <br>\n",
    " &nbsp;&nbsp;&nbsp;&nbsp; c) Setting Defaults for Attributes <br>\n",
    " &nbsp;&nbsp;&nbsp;&nbsp; d) Accessing Class Attributes <br>\n",
    " &nbsp;&nbsp;&nbsp;&nbsp; e) Changing Class Attributes <br>\n",
    " &nbsp;&nbsp;&nbsp;&nbsp; f) In-Class Exercise #2 - Add a color and wheels attribute to your 'Car' class <br>\n",
    "5) <b>Class Methods</b> <br>\n",
    " &nbsp;&nbsp;&nbsp;&nbsp; a) Creating <br>\n",
    " &nbsp;&nbsp;&nbsp;&nbsp; b) Calling <br>\n",
    " &nbsp;&nbsp;&nbsp;&nbsp; c) Modifying an Attribute's Value Through a Method <br>\n",
    " &nbsp;&nbsp;&nbsp;&nbsp; d) Incrementing an Attribute's Value Through a Method <br>\n",
    " &nbsp;&nbsp;&nbsp;&nbsp; e) In-Class Exercise #3 - Add a method that prints the cars color and wheel number, then call them <br>\n",
    "6) <b>Inheritance</b> <br>\n",
    " &nbsp;&nbsp;&nbsp;&nbsp; a) Syntax for Inheriting from a Parent Class <br>\n",
    " &nbsp;&nbsp;&nbsp;&nbsp; b) The \\__init\\__() Method for a Child Class (super()) <br>\n",
    " &nbsp;&nbsp;&nbsp;&nbsp; c) Defining Attributes and Methods for the Child Class <br>\n",
    " &nbsp;&nbsp;&nbsp;&nbsp; d) Method Overriding <br>\n",
    " &nbsp;&nbsp;&nbsp;&nbsp; e) In-Class Exercise #4 - Create a class 'Ford' that inherits from 'Car' class and initialize it as a Blue Ford Explorer with 4 wheels using the super() method <br>\n",
    "7) <b>Classes as Attributes</b> <br>\n",
    "8) <b>Exercises</b> <br>\n",
    " &nbsp;&nbsp;&nbsp;&nbsp; a) Exercise #1 - Turn the shopping cart program from yesterday into an object-oriented program <br>"
   ]
  },
  {
   "cell_type": "markdown",
   "metadata": {},
   "source": [
    "## Creating a Class (Initializing/Declaring)\n",
    "<p>When creating a class, function, or even a variable you are initializing that object. Initializing and Declaring occur at the same time in Python, whereas in lower level languages you have to declare an object before initializing it. This is the first step in the process of using a class.</p>"
   ]
  },
  {
   "cell_type": "code",
   "execution_count": 4,
   "metadata": {},
   "outputs": [],
   "source": [
    "class Car():\n",
    "    wheels = 4\n",
    "    color = 'blue'"
   ]
  },
  {
   "cell_type": "markdown",
   "metadata": {},
   "source": [
    "## Using a Class (Instantiating)\n",
    "<p>The process of creating a class is called <i>Instantiating</i>. Each time you create a variable of that type of class, it is referred to as an <i>Instance</i> of that class. This is the second step in the process of using a class.</p>"
   ]
  },
  {
   "cell_type": "markdown",
   "metadata": {},
   "source": [
    "##### Creating One Instance"
   ]
  },
  {
   "cell_type": "code",
   "execution_count": null,
   "metadata": {},
   "outputs": [],
   "source": [
    "ford = Car()"
   ]
  },
  {
   "cell_type": "markdown",
   "metadata": {},
   "source": [
    "##### Creating Multiple Instances"
   ]
  },
  {
   "cell_type": "code",
   "execution_count": null,
   "metadata": {},
   "outputs": [],
   "source": []
  },
  {
   "cell_type": "markdown",
   "metadata": {},
   "source": [
    "##### In-Class Exercise #1 - Create a Class 'Car' and Instantiate three different makes of cars"
   ]
  },
  {
   "cell_type": "code",
   "execution_count": null,
   "metadata": {},
   "outputs": [],
   "source": []
  },
  {
   "cell_type": "markdown",
   "metadata": {},
   "source": [
    "## The \\__init\\__() Method <br>\n",
    "<p>This method is used in almost every created class, and called only once upon the creation of the class instance. This method will initialize all variables needed for the object.</p>"
   ]
  },
  {
   "cell_type": "code",
   "execution_count": null,
   "metadata": {},
   "outputs": [],
   "source": []
  },
  {
   "cell_type": "markdown",
   "metadata": {},
   "source": [
    "##### The 'self' Attribute <br>\n",
    "<p>This attribute is required to keep track of specific instance's attributes. Without the self attribute, the program would not know how to reference or keep track of an instance's attributes.</p>"
   ]
  },
  {
   "cell_type": "code",
   "execution_count": null,
   "metadata": {},
   "outputs": [],
   "source": [
    "# see above"
   ]
  },
  {
   "cell_type": "markdown",
   "metadata": {},
   "source": [
    "## Class Attributes <br>\n",
    "<p>While variables are inside of a class, they are referred to as attributes and not variables. When someone says 'attribute' you know they're speaking about a class. Attributes can be initialized through the init method, or outside of it.</p>"
   ]
  },
  {
   "cell_type": "markdown",
   "metadata": {},
   "source": [
    "##### Initializing Attributes"
   ]
  },
  {
   "cell_type": "code",
   "execution_count": null,
   "metadata": {},
   "outputs": [],
   "source": [
    "# see above"
   ]
  },
  {
   "cell_type": "markdown",
   "metadata": {},
   "source": [
    "##### Accessing Class Attributes"
   ]
  },
  {
   "cell_type": "code",
   "execution_count": null,
   "metadata": {
    "scrolled": true
   },
   "outputs": [],
   "source": [
    "# See Above"
   ]
  },
  {
   "cell_type": "markdown",
   "metadata": {},
   "source": [
    "##### Setting Defaults for Attributes"
   ]
  },
  {
   "cell_type": "code",
   "execution_count": null,
   "metadata": {},
   "outputs": [],
   "source": []
  },
  {
   "cell_type": "markdown",
   "metadata": {},
   "source": [
    "##### Changing Class Attributes <br>\n",
    "<p>Keep in mind there are global class attributes and then there are attributes only available to each class instance which won't effect other classes.</p>"
   ]
  },
  {
   "cell_type": "code",
   "execution_count": null,
   "metadata": {},
   "outputs": [],
   "source": []
  },
  {
   "cell_type": "code",
   "execution_count": null,
   "metadata": {},
   "outputs": [],
   "source": []
  },
  {
   "cell_type": "markdown",
   "metadata": {},
   "source": [
    "##### In-Class Exercise #2 - Add a doors and seats attribute to your 'Car' class then print out two different instances with different doors and seats"
   ]
  },
  {
   "cell_type": "code",
   "execution_count": null,
   "metadata": {},
   "outputs": [],
   "source": []
  },
  {
   "cell_type": "markdown",
   "metadata": {},
   "source": [
    "## Class Methods <br>\n",
    "<p>While inside of a class, functions are referred to as 'methods'. If you hear someone mention methods, they're speaking about classes. Methods are essentially functions, but only callable on the instances of a class.</p>"
   ]
  },
  {
   "cell_type": "markdown",
   "metadata": {},
   "source": [
    "##### Creating"
   ]
  },
  {
   "cell_type": "code",
   "execution_count": null,
   "metadata": {},
   "outputs": [],
   "source": []
  },
  {
   "cell_type": "markdown",
   "metadata": {},
   "source": [
    "##### Calling"
   ]
  },
  {
   "cell_type": "code",
   "execution_count": null,
   "metadata": {},
   "outputs": [],
   "source": [
    "# See Above"
   ]
  },
  {
   "cell_type": "markdown",
   "metadata": {},
   "source": [
    "##### Modifying an Attribute's Value Through a Method"
   ]
  },
  {
   "cell_type": "code",
   "execution_count": null,
   "metadata": {},
   "outputs": [],
   "source": []
  },
  {
   "cell_type": "markdown",
   "metadata": {},
   "source": [
    "##### Incrementing an Attribute's Value Through a Method"
   ]
  },
  {
   "cell_type": "code",
   "execution_count": null,
   "metadata": {},
   "outputs": [],
   "source": []
  },
  {
   "cell_type": "markdown",
   "metadata": {},
   "source": [
    "##### In-Class Exercise #3 - Add a method that takes in three parameters of year, doors and seats and prints out a formatted print statement with make, model, year, seats, and doors"
   ]
  },
  {
   "cell_type": "code",
   "execution_count": 7,
   "metadata": {},
   "outputs": [
    {
     "name": "stdout",
     "output_type": "stream",
     "text": [
      "Your 1991 Acura Integra has 2 doors and 4 seats.\n",
      "Your 1991 Acura Integra has 2 doors and 4 seats.\n"
     ]
    },
    {
     "ename": "NameError",
     "evalue": "name 'year' is not defined",
     "output_type": "error",
     "traceback": [
      "\u001b[1;31m---------------------------------------------------------------------------\u001b[0m",
      "\u001b[1;31mNameError\u001b[0m                                 Traceback (most recent call last)",
      "Input \u001b[1;32mIn [7]\u001b[0m, in \u001b[0;36m<cell line: 38>\u001b[1;34m()\u001b[0m\n\u001b[0;32m     35\u001b[0m my_car \u001b[38;5;241m=\u001b[39m Car(make\u001b[38;5;241m=\u001b[39m\u001b[38;5;124m\"\u001b[39m\u001b[38;5;124mAcura\u001b[39m\u001b[38;5;124m\"\u001b[39m, model\u001b[38;5;241m=\u001b[39m\u001b[38;5;124m\"\u001b[39m\u001b[38;5;124mIntegra\u001b[39m\u001b[38;5;124m\"\u001b[39m)\n\u001b[0;32m     37\u001b[0m my_car\u001b[38;5;241m.\u001b[39maspects(\u001b[38;5;241m1991\u001b[39m, \u001b[38;5;241m2\u001b[39m, \u001b[38;5;241m4\u001b[39m)\n\u001b[1;32m---> 38\u001b[0m \u001b[43mmy_car\u001b[49m\u001b[38;5;241;43m.\u001b[39;49m\u001b[43mprint_year\u001b[49m\u001b[43m(\u001b[49m\u001b[43m)\u001b[49m\n",
      "Input \u001b[1;32mIn [7]\u001b[0m, in \u001b[0;36mCar.print_year\u001b[1;34m(self)\u001b[0m\n\u001b[0;32m     32\u001b[0m \u001b[38;5;28;01mdef\u001b[39;00m \u001b[38;5;21mprint_year\u001b[39m(\u001b[38;5;28mself\u001b[39m):\n\u001b[1;32m---> 33\u001b[0m     \u001b[38;5;28mprint\u001b[39m(\u001b[43myear\u001b[49m)\n",
      "\u001b[1;31mNameError\u001b[0m: name 'year' is not defined"
     ]
    }
   ],
   "source": [
    "# Create class with 2 paramters inside of the __init__ which are make and model\n",
    "\n",
    "# Inside of the Car class create a method that has 4 parameter in total (self,year,door,seats)\n",
    "\n",
    "# Output: This car is from 2019 and is a Ford Expolorer and has 4 doors and 5 seats\n",
    "\n",
    "class Car():\n",
    "    \n",
    "    def __init__(self, make, model):\n",
    "        self.make = make\n",
    "        self.model = model\n",
    "        \n",
    "    def aspects(self, year, doors, seats):\n",
    "        self.year = year\n",
    "        self.doors = doors\n",
    "        self.seats = seats\n",
    "        print(f'Your {self.year} {self.make} {self.model} has {self.doors} doors and {self.seats} seats.')\n",
    "        \n",
    "my_car = Car(make=\"Acura\", model=\"Integra\")\n",
    "\n",
    "my_car.aspects(1991, 2, 4)\n",
    "\n",
    "class Car():\n",
    "    \n",
    "    def __init__(self, make, model):\n",
    "        self.make = make\n",
    "        self.model = model\n",
    "        \n",
    "    def aspects(self, year, doors, seats):\n",
    "        print(f'Your {year} {self.make} {self.model} has {doors} doors and {seats} seats.')\n",
    "        \n",
    "    def print_year(self):\n",
    "        print(year)\n",
    "        \n",
    "my_car = Car(make=\"Acura\", model=\"Integra\")\n",
    "\n",
    "my_car.aspects(1991, 2, 4)\n",
    "my_car.print_year()"
   ]
  },
  {
   "cell_type": "markdown",
   "metadata": {},
   "source": [
    "## Inheritance <br>\n",
    "<p>You can create a child-parent relationship between two classes by using inheritance. What this allows you to do is have overriding methods, but also inherit traits from the parent class. Think of it as an actual parent and child, the child will inherit the parent's genes, as will the classes in OOP</p>"
   ]
  },
  {
   "cell_type": "markdown",
   "metadata": {},
   "source": [
    "##### Syntax for Inheriting from a Parent Class"
   ]
  },
  {
   "cell_type": "code",
   "execution_count": null,
   "metadata": {},
   "outputs": [],
   "source": []
  },
  {
   "cell_type": "markdown",
   "metadata": {},
   "source": [
    "##### The \\__init\\__() Method for a Child Class - super()"
   ]
  },
  {
   "cell_type": "code",
   "execution_count": null,
   "metadata": {
    "scrolled": true
   },
   "outputs": [],
   "source": [
    "from random import randint\n",
    "\n",
    "class Hobbit(Fantasy_Character):\n",
    "    speed = 12 # here overwriting original parent class speed\n",
    "    size = \"small\"\n",
    "    # the following is asking for all the original stuff from Fantasy_Character,\n",
    "    # but is adding height. now, instead of writing out all the name, fc, stats stuff\n",
    "    # again, we can use super(). apparently we need this because we're using init in here,\n",
    "    # and the init in this subclass is going to conflict with the F_C parent class init, unless\n",
    "    # we match up the things that are in that parent class as well.\n",
    "    def __init__(self, name, fantasy_class, stats, height):\n",
    "        super().__init__(name, fantasy_class, stats)\n",
    "        self.height = height\n",
    "        \n",
    "    def lucky(self):\n",
    "        print(f\"You gain a {randint(1, self.stats['dexterity'])} bonus to your luck roll\")\n",
    "        \n",
    "    def display_my_class(self):\n",
    "        print(f'My class is a hobbit')\n",
    "        \n",
    "# now here, we have an extra item on the end of this call, 4, going into height, which wasn't\n",
    "# in the original F_C parent clss\n",
    "bilbo = Hobbit(\"bilbo\", \"ranger\", dummy_stats, 4)\n",
    "        \n",
    "    "
   ]
  },
  {
   "cell_type": "markdown",
   "metadata": {},
   "source": [
    "##### Defining Attributes and Methods for the Child Class"
   ]
  },
  {
   "cell_type": "code",
   "execution_count": null,
   "metadata": {},
   "outputs": [],
   "source": [
    "# See Above"
   ]
  },
  {
   "cell_type": "markdown",
   "metadata": {},
   "source": [
    "##### Method Overriding"
   ]
  },
  {
   "cell_type": "code",
   "execution_count": null,
   "metadata": {},
   "outputs": [],
   "source": [
    "# grandchild class\n",
    "# this class is going to inherit from both F_C and from Hobbit\n",
    "class Stout_Hobbit(Hobbit):\n",
    "    # this one is adding weight to the init which isn't in the prev two\n",
    "    def __init__(self, name, fantasy_class, stats, height, weight):\n",
    "        super().__init__(name, fantasy_class, stats, height, weight)\n",
    "        self.weight = weight\n",
    "        \n",
    "    def display_my_class(self):\n",
    "        print(\"My class is stout hobbit\")\n",
    "        \n",
    "sam = Stout_Hobbit(\"Sam\", \"barbarian\", dummy_stats,4,200)\n",
    "\n",
    "sam.speed\n",
    "\n",
    "# it's going to get speed from it's parent first, then it's grandparent if needed."
   ]
  },
  {
   "cell_type": "markdown",
   "metadata": {},
   "source": [
    "## Classes as Attributes <br>\n",
    "<p>Classes can also be used as attributes within another class. This is useful in situations where you need to keep variables locally stored, instead of globally stored.</p>"
   ]
  },
  {
   "cell_type": "code",
   "execution_count": null,
   "metadata": {},
   "outputs": [],
   "source": []
  },
  {
   "cell_type": "markdown",
   "metadata": {},
   "source": [
    "# Exercises"
   ]
  },
  {
   "cell_type": "markdown",
   "metadata": {},
   "source": [
    "### Exercise 1 - Turn the shopping cart program from yesterday into an object-oriented program\n",
    "\n",
    "The comments in the cell below are there as a guide for thinking about the problem. However, if you feel a different way is best for you and your own thought process, please do what feels best for you by all means."
   ]
  },
  {
   "cell_type": "code",
   "execution_count": 1,
   "metadata": {},
   "outputs": [
    {
     "name": "stdout",
     "output_type": "stream",
     "text": [
      "What would you like to do?\n",
      "Options include add entry, check/edit entry, remove entry, view library, or quit: view\n",
      "Displaying entire library:\n",
      "\n",
      "books:\n",
      "  Ender's Game:\n",
      "    genre: scifi\n",
      "    author: osc\n",
      "    rating: 4\n",
      "    num_words: 25000\n",
      "  Piranesi:\n",
      "    genre: fict\n",
      "    author: Susana Clarke\n",
      "    rating: 5\n",
      "    num_words: 10000\n",
      "games:\n",
      "  Resident Evil 4:\n",
      "    genre: horror\n",
      "    rating: 5\n",
      "    hours_played: 1000\n",
      "    console: pc\n",
      "  Beat Saber:\n",
      "    genre: rhythm\n",
      "    rating: 5\n",
      "    hours_played: 600\n",
      "    console: index\n",
      "  Half-Life: Alyx:\n",
      "    genre: vr\n",
      "    rating: 5\n",
      "    hours_played: 32\n",
      "    console: vr\n",
      "shows:\n",
      "  Severance:\n",
      "    genre: thriller\n",
      "    rating: 5\n",
      "    stream_service: Apple TV\n",
      "    num_seasons: 1\n",
      "What would you like to do?\n",
      "Options include add entry, check/edit entry, remove entry, view library, or quit: quit\n"
     ]
    },
    {
     "data": {
      "text/plain": [
       "{'books': {\"Ender's Game\": {'name': \"Ender's Game\",\n",
       "   'genre': 'scifi',\n",
       "   'author': 'osc',\n",
       "   'rating': 4,\n",
       "   'num_words': 25000},\n",
       "  'Piranesi': {'name': 'Piranesi',\n",
       "   'genre': 'fict',\n",
       "   'author': 'Susana Clarke',\n",
       "   'rating': 5,\n",
       "   'num_words': 10000}},\n",
       " 'games': {'Resident Evil 4': {'name': 'Resident Evil 4',\n",
       "   'genre': 'horror',\n",
       "   'rating': 5,\n",
       "   'hours_played': 1000,\n",
       "   'console': 'pc'},\n",
       "  'Beat Saber': {'name': 'Beat Saber',\n",
       "   'genre': 'rhythm',\n",
       "   'rating': 5,\n",
       "   'hours_played': 600,\n",
       "   'console': 'index'},\n",
       "  'Half-Life: Alyx': {'name': 'Half-Life: Alyx',\n",
       "   'genre': 'vr',\n",
       "   'rating': 5,\n",
       "   'hours_played': 32,\n",
       "   'console': 'vr'}},\n",
       " 'shows': {'Severance': {'name': 'Severance',\n",
       "   'genre': 'thriller',\n",
       "   'rating': 5,\n",
       "   'stream_service': 'Apple TV',\n",
       "   'num_seasons': 1}}}"
      ]
     },
     "execution_count": 1,
     "metadata": {},
     "output_type": "execute_result"
    }
   ],
   "source": [
    "class Media:\n",
    "\n",
    "    def __init__(self, name, genre, rating):\n",
    "        self.name = name\n",
    "        self.genre = genre\n",
    "        self.rating = rating\n",
    "    \n",
    "\n",
    "class Book(Media):\n",
    "    \n",
    "    type = \"books\"\n",
    "\n",
    "    def __init__(self, name, author, genre, rating, num_words):\n",
    "        super().__init__(name, genre, rating)\n",
    "        self.num_words = num_words\n",
    "        self.author = author\n",
    "\n",
    "class Game(Media):\n",
    "\n",
    "    type = \"games\"\n",
    "\n",
    "    def __init__(self, name, genre, rating, hours_played, console):\n",
    "        super().__init__(name, genre, rating)\n",
    "        self.hours_played = hours_played\n",
    "        self.console = console\n",
    "\n",
    "class Tv(Media):\n",
    "\n",
    "    type = \"shows\"\n",
    "\n",
    "    def __init__(self, name, genre, rating, stream_service, num_seasons):\n",
    "            super().__init__(name, genre, rating)\n",
    "            self.stream_service = stream_service\n",
    "            self.num_seasons = num_seasons\n",
    "\n",
    "class My_Media_Library:\n",
    "\n",
    "    def __init__(self, my_library = {\"books\":{}, \"games\":{}, \"shows\": {}}):\n",
    "        self.my_library = my_library\n",
    "\n",
    "    def get_library(self):\n",
    "        # yes, I know, don't say it: triple-nested for loop is big O complexity = outrageous\n",
    "        # I'd find some other solution if performance mattered...but if performance\n",
    "        # mattered, we'd be dealing with Large dictionaries, and you wouldn't\n",
    "        # be asking us to print such a thing in the first place\n",
    "        for category, value in self.my_library.items():\n",
    "            print(f'{category}:')\n",
    "            for sub_category, sub_value in value.items():\n",
    "                print(f'  {sub_category}:')\n",
    "                for media_info, media_value in sub_value.items():\n",
    "                    if media_info != \"name\":\n",
    "                        print(f'    {media_info}: {media_value}')\n",
    "\n",
    "    def new_library(self):\n",
    "        self.my_library = {\"books\" : {}, \"games\" : {}, \"shows\" : {}}\n",
    "\n",
    "    def check_library(self, media_to_check, title_to_check):\n",
    "        if title_to_check in self.my_library[media_to_check]:\n",
    "            print(f\"{title_to_check} is in the library. Here's the entry:\\n\")\n",
    "            print(self.my_library[media_to_check][title_to_check])\n",
    "            user_edit = input(\"Do you want to edit this entry? (y/n): \").lower()\n",
    "            if \"y\" in user_edit:\n",
    "                if media_to_check == \"books\":\n",
    "                    self.edit_book(media_to_check, title_to_check)\n",
    "                elif media_to_check == \"games\":\n",
    "                    self.edit_game(media_to_check, title_to_check)\n",
    "                else:\n",
    "                    self.edit_tv_show(media_to_check, title_to_check)\n",
    "            else:\n",
    "                print(\"Returning to main menu.\")\n",
    "        else:\n",
    "            print(f'{title_to_check} has not yet been added. Make sure you typed the title correctly if you think it should be here. Returning to main menu.') \n",
    "\n",
    "    def add_book(self):\n",
    "        new_book = Book(name = input(\"Enter the book's title: \"),\n",
    "                        author = input(\"Enter the book's author: \"),\n",
    "                        genre = input(\"Enter the book's genre: \"),\n",
    "                        rating = input(\"Enter your 1-5 rating of the book (1=worst 5=best): \"),\n",
    "                        num_words = input(\"Enter book's word count: \"))\n",
    "        \n",
    "        title = new_book.name\n",
    "        self.my_library[\"books\"][title] = new_book.__dict__\n",
    "\n",
    "    def add_game(self):\n",
    "        new_game = Game(name = input(\"Enter the game's title: \"),\n",
    "                        genre = input(\"Enter the game's genre: \"),\n",
    "                        rating = input(\"Enter your 1-5 rating of the game (1=worst 5=best): \"),\n",
    "                        hours_played = input(\"Enter your hours played so far: \"),\n",
    "                        console = input(\"On which console do you play this game? \"))\n",
    "        \n",
    "        title = new_game.name\n",
    "        self.my_library[\"games\"][title] = new_game.__dict__\n",
    "\n",
    "    def add_tv_show(self):\n",
    "        new_show = Tv(name = input(\"Enter the show's title: \"),\n",
    "                        genre = input(\"Enter the show's genre: \"),\n",
    "                        rating = input(\"Enter your 1-5 rating of the show (1=worst 5=best): \"),\n",
    "                        stream_service = input(\"Enter the streaming service used: \"),\n",
    "                        num_seasons= input(\"How many seasons are available? \"))\n",
    "        \n",
    "        title = new_show.name\n",
    "        self.my_library[\"shows\"][title] = new_show.__dict__\n",
    "\n",
    "    def remove_entry(self, media_to_remove, title_to_remove):\n",
    "        del(self.my_library[media_to_remove][title_to_remove])\n",
    "\n",
    "    def edit_book(self, media_to_edit, title_to_edit):\n",
    "        this_edit = input(\"Which parameter would you like to edit? Note, you can't edit the title/name. Please type only 'genre', 'rating', 'author' or 'num_words':\\n\").lower()\n",
    "        if this_edit == \"genre\" or this_edit == \"author\" or this_edit == \"rating\" or this_edit == \"num_words\":\n",
    "            new_value = input(f\"Please enter a new value for {this_edit}: \")\n",
    "            self.my_library[media_to_edit][title_to_edit][this_edit] = new_value\n",
    "        else:\n",
    "            print(\"Sorry, that's not a parameter you can edit, returning to main menu.\")\n",
    "\n",
    "    def edit_tv_show(self, media_to_edit, title_to_edit):\n",
    "        this_edit = input(\"Which parameter would you like to edit? Note, you can't edit the title/name. Please type only 'genre', 'rating', 'stream_service' or 'num_seasons':\\n\").lower()\n",
    "        if this_edit == \"genre\" or this_edit == \"rating\" or this_edit == \"stream_service\" or this_edit == \"num_seasons\":\n",
    "            new_value = input(f\"Please enter a new value for {this_edit}: \")\n",
    "            self.my_library[media_to_edit][title_to_edit][this_edit] = new_value\n",
    "        else:\n",
    "            print(\"Sorry, that's not a parameter you can edit, returning to main menu.\")\n",
    "\n",
    "    def edit_game(self, media_to_edit, title_to_edit):\n",
    "        this_edit = input(\"Which parameter would you like to edit? Note, you can't edit the title/name. Please type only 'genre', 'rating', 'hours_played' or 'console':\\n\").lower()\n",
    "        if this_edit == \"genre\" or this_edit == \"rating\" or this_edit == \"hours_played\" or this_edit == \"console\":\n",
    "            new_value = input(f\"Please enter a new value for {this_edit}: \")\n",
    "            self.my_library[media_to_edit][title_to_edit][this_edit] = new_value\n",
    "        else:\n",
    "            print(\"Sorry, that's not a parameter you can edit, returning to main menu.\")\n",
    "\n",
    "    def main(self):\n",
    "        while True:\n",
    "            user_choice = input(\"What would you like to do?\\nOptions include add entry, check/edit entry, remove entry, view library, or quit: \").lower()\n",
    "            if \"add\" in user_choice:\n",
    "                which_entry = input(\"Do you want to add a book, game, or tv show? \").lower()\n",
    "                if \"book\" in which_entry:\n",
    "                    self.add_book()\n",
    "                elif \"game\" in which_entry:\n",
    "                    self.add_game()\n",
    "                elif \"show\" in which_entry:\n",
    "                    self.add_tv_show()\n",
    "                else:\n",
    "                    print(\"Sorry, that wasn't a valid option as typed, returning to main menu.\")\n",
    "            elif \"view\" in user_choice:\n",
    "                print(\"Displaying entire library:\\n\")\n",
    "                self.get_library()\n",
    "            elif \"check\" in user_choice or \"edit\" in user_choice:\n",
    "                check_category = input(\"Do you want to check/edit books, games, or shows? (Please type only 'books', 'games', or 'shows'.) \").lower()\n",
    "                if \"books\" == check_category or \"games\" == check_category or \"shows\" == check_category:\n",
    "                    check_title = input(\"What's the exact, formatted title you want to check/edit? \")\n",
    "                    self.check_library(check_category, check_title)\n",
    "                else:\n",
    "                    print(\"Sorry, that wasn't a valid option as typed, returning to main menu.\")\n",
    "            elif \"remove\" in user_choice:\n",
    "                del_category = input(\"Do you want to delete books, games, or shows? (Please type only 'books', 'games', or 'shows'.) \").lower()\n",
    "                if \"books\" == del_category or \"games\" == del_category or \"shows\" == del_category:\n",
    "                    del_title = input(\"What's the exact, formatted title you want to delete? \")\n",
    "                    if del_title in self.my_library[del_category]:\n",
    "                        print(f\"Deleting: {del_category}: {del_title}\")\n",
    "                        self.remove_entry(del_category, del_title)\n",
    "                    else:\n",
    "                        print(\"That title wasn't actually in the library, returning to main menu.\")\n",
    "                else:\n",
    "                    print(\"Sorry, that wasn't a valid option as typed, returning to main menu.\")\n",
    "            elif user_choice == \"quit\" or user_choice==\"q\":\n",
    "                return(self.my_library)\n",
    "            else:\n",
    "                print(\"Sorry, that wasn't a valid option as typed, returning to main menu.\")\n",
    "\n",
    "demo_dict={\n",
    "    \"books\" : {\n",
    "        \"Ender's Game\" : {\n",
    "            \"name\" : \"Ender's Game\",\n",
    "            \"genre\" : \"scifi\",\n",
    "            \"author\" : \"osc\",\n",
    "            \"rating\" : 4,\n",
    "            \"num_words\" : 25000\n",
    "        },\n",
    "        \"Piranesi\" :{\n",
    "            \"name\" : \"Piranesi\",\n",
    "            \"genre\" : \"fict\",\n",
    "            \"author\" : \"Susana Clarke\",\n",
    "            \"rating\" : 5,\n",
    "            \"num_words\" : 10000\n",
    "        }\n",
    "    },\n",
    "    \"games\" : {\n",
    "        \"Resident Evil 4\" :{\n",
    "            \"name\" : \"Resident Evil 4\",\n",
    "            \"genre\" : \"horror\",\n",
    "            \"rating\" : 5,\n",
    "            \"hours_played\" : 1000,\n",
    "            \"console\" : \"pc\"\n",
    "        },\n",
    "        \"Beat Saber\" :{\n",
    "            \"name\" : \"Beat Saber\",\n",
    "            \"genre\" : \"rhythm\",\n",
    "            \"rating\" : 5,\n",
    "            \"hours_played\" : 600,\n",
    "            \"console\" : \"index\"\n",
    "        },\n",
    "        \"Half-Life: Alyx\" : {\n",
    "            \"name\" : \"Half-Life: Alyx\",\n",
    "            \"genre\" : \"vr\",\n",
    "            \"rating\" : 5,\n",
    "            \"hours_played\" : 32,\n",
    "            \"console\" : \"vr\"\n",
    "        }\n",
    "    },\n",
    "    \"shows\" : {\n",
    "        \"Severance\" :{\n",
    "            \"name\" : \"Severance\",\n",
    "            \"genre\" : \"thriller\",\n",
    "            \"rating\" : 5,\n",
    "            \"stream_service\" : \"Apple TV\",\n",
    "            \"num_seasons\" : 1\n",
    "        }\n",
    "    }\n",
    "}                \n",
    "\n",
    "letsGo = My_Media_Library(my_library=demo_dict)\n",
    "\n",
    "letsGo.main()\n",
    "    "
   ]
  },
  {
   "cell_type": "markdown",
   "metadata": {},
   "source": [
    "### Exercise 2 - Write a Python class which has two methods get_String and print_String. get_String accept a string from the user and print_String print the string in upper case"
   ]
  },
  {
   "cell_type": "code",
   "execution_count": null,
   "metadata": {},
   "outputs": [],
   "source": [
    "class Make_Upper:\n",
    "\n",
    "    def __init__(self, the_string=\"Default string, no user entry made.\"):\n",
    "        self.the_string = the_string\n",
    "\n",
    "    def Get_String(self):\n",
    "        self.the_string = input(\"Type me a string and I'll make it all caps:\\n\")\n",
    "        return(self.Print_String())\n",
    "\n",
    "    def Print_String(self):\n",
    "        print(self.the_string.upper())\n",
    "\n",
    "    def Main(self):\n",
    "        self.Get_String()\n",
    "\n",
    "input1 = Make_Upper()\n",
    "\n",
    "input1.Main()"
   ]
  }
 ],
 "metadata": {
  "kernelspec": {
   "display_name": "Python 3 (ipykernel)",
   "language": "python",
   "name": "python3"
  },
  "language_info": {
   "codemirror_mode": {
    "name": "ipython",
    "version": 3
   },
   "file_extension": ".py",
   "mimetype": "text/x-python",
   "name": "python",
   "nbconvert_exporter": "python",
   "pygments_lexer": "ipython3",
   "version": "3.9.12"
  }
 },
 "nbformat": 4,
 "nbformat_minor": 2
}
